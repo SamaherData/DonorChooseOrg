{
 "cells": [
  {
   "cell_type": "code",
   "execution_count": 18,
   "metadata": {
    "collapsed": true
   },
   "outputs": [],
   "source": [
    "import pandas as pd\n",
    "import numpy as np\n",
    "from sklearn.ensemble import RandomForestClassifier\n",
    "from sklearn.model_selection import train_test_split\n",
    "from sklearn.metrics import recall_score\n",
    "from sklearn.metrics import precision_score\n",
    "from sklearn.metrics import f1_score\n",
    "from imblearn.over_sampling import SMOTE\n",
    "from sklearn.metrics import confusion_matrix\n",
    "from matplotlib import pyplot as plt\n",
    "import seaborn as sns\n",
    "from sklearn.metrics import roc_auc_score\n",
    "from sklearn.metrics import roc_curve\n",
    "import matplotlib.pyplot as plt\n",
    "plt.style.use('ggplot')\n",
    "%matplotlib inline"
   ]
  },
  {
   "cell_type": "code",
   "execution_count": 19,
   "metadata": {
    "collapsed": true
   },
   "outputs": [],
   "source": [
    "df=pd.read_csv('C:/Users/samaher/Desktop/Data/final_prepr.csv',index_col=0)"
   ]
  },
  {
   "cell_type": "code",
   "execution_count": 20,
   "metadata": {},
   "outputs": [
    {
     "data": {
      "text/html": [
       "<div>\n",
       "<style>\n",
       "    .dataframe thead tr:only-child th {\n",
       "        text-align: right;\n",
       "    }\n",
       "\n",
       "    .dataframe thead th {\n",
       "        text-align: left;\n",
       "    }\n",
       "\n",
       "    .dataframe tbody tr th {\n",
       "        vertical-align: top;\n",
       "    }\n",
       "</style>\n",
       "<table border=\"1\" class=\"dataframe\">\n",
       "  <thead>\n",
       "    <tr style=\"text-align: right;\">\n",
       "      <th></th>\n",
       "      <th>Project Current Status</th>\n",
       "      <th>Project Cost</th>\n",
       "      <th>Project Grade Level Category_Grades 3-5</th>\n",
       "      <th>Project Grade Level Category_Grades 6-8</th>\n",
       "      <th>Project Grade Level Category_Grades 9-12</th>\n",
       "      <th>Project Grade Level Category_Grades PreK-2</th>\n",
       "      <th>Project Grade Level Category_unknown</th>\n",
       "      <th>Project Posted Month_1</th>\n",
       "      <th>Project Posted Month_10</th>\n",
       "      <th>Project Posted Month_11</th>\n",
       "      <th>...</th>\n",
       "      <th>School State_South Dakota</th>\n",
       "      <th>School State_Tennessee</th>\n",
       "      <th>School State_Texas</th>\n",
       "      <th>School State_Utah</th>\n",
       "      <th>School State_Vermont</th>\n",
       "      <th>School State_Virginia</th>\n",
       "      <th>School State_Washington</th>\n",
       "      <th>School State_West Virginia</th>\n",
       "      <th>School State_Wisconsin</th>\n",
       "      <th>School State_Wyoming</th>\n",
       "    </tr>\n",
       "  </thead>\n",
       "  <tbody>\n",
       "    <tr>\n",
       "      <th>0</th>\n",
       "      <td>1</td>\n",
       "      <td>361.80</td>\n",
       "      <td>0</td>\n",
       "      <td>0</td>\n",
       "      <td>0</td>\n",
       "      <td>1</td>\n",
       "      <td>0</td>\n",
       "      <td>1</td>\n",
       "      <td>0</td>\n",
       "      <td>0</td>\n",
       "      <td>...</td>\n",
       "      <td>0</td>\n",
       "      <td>0</td>\n",
       "      <td>0</td>\n",
       "      <td>0</td>\n",
       "      <td>0</td>\n",
       "      <td>0</td>\n",
       "      <td>0</td>\n",
       "      <td>0</td>\n",
       "      <td>0</td>\n",
       "      <td>0</td>\n",
       "    </tr>\n",
       "    <tr>\n",
       "      <th>1</th>\n",
       "      <td>1</td>\n",
       "      <td>416.24</td>\n",
       "      <td>0</td>\n",
       "      <td>0</td>\n",
       "      <td>0</td>\n",
       "      <td>1</td>\n",
       "      <td>0</td>\n",
       "      <td>1</td>\n",
       "      <td>0</td>\n",
       "      <td>0</td>\n",
       "      <td>...</td>\n",
       "      <td>0</td>\n",
       "      <td>0</td>\n",
       "      <td>0</td>\n",
       "      <td>0</td>\n",
       "      <td>0</td>\n",
       "      <td>0</td>\n",
       "      <td>0</td>\n",
       "      <td>0</td>\n",
       "      <td>0</td>\n",
       "      <td>0</td>\n",
       "    </tr>\n",
       "    <tr>\n",
       "      <th>2</th>\n",
       "      <td>1</td>\n",
       "      <td>829.08</td>\n",
       "      <td>0</td>\n",
       "      <td>0</td>\n",
       "      <td>0</td>\n",
       "      <td>1</td>\n",
       "      <td>0</td>\n",
       "      <td>1</td>\n",
       "      <td>0</td>\n",
       "      <td>0</td>\n",
       "      <td>...</td>\n",
       "      <td>0</td>\n",
       "      <td>0</td>\n",
       "      <td>0</td>\n",
       "      <td>0</td>\n",
       "      <td>0</td>\n",
       "      <td>0</td>\n",
       "      <td>0</td>\n",
       "      <td>0</td>\n",
       "      <td>0</td>\n",
       "      <td>0</td>\n",
       "    </tr>\n",
       "    <tr>\n",
       "      <th>3</th>\n",
       "      <td>1</td>\n",
       "      <td>478.98</td>\n",
       "      <td>0</td>\n",
       "      <td>0</td>\n",
       "      <td>0</td>\n",
       "      <td>1</td>\n",
       "      <td>0</td>\n",
       "      <td>0</td>\n",
       "      <td>0</td>\n",
       "      <td>0</td>\n",
       "      <td>...</td>\n",
       "      <td>0</td>\n",
       "      <td>0</td>\n",
       "      <td>0</td>\n",
       "      <td>0</td>\n",
       "      <td>0</td>\n",
       "      <td>0</td>\n",
       "      <td>0</td>\n",
       "      <td>0</td>\n",
       "      <td>0</td>\n",
       "      <td>0</td>\n",
       "    </tr>\n",
       "    <tr>\n",
       "      <th>4</th>\n",
       "      <td>1</td>\n",
       "      <td>869.98</td>\n",
       "      <td>0</td>\n",
       "      <td>0</td>\n",
       "      <td>0</td>\n",
       "      <td>1</td>\n",
       "      <td>0</td>\n",
       "      <td>0</td>\n",
       "      <td>0</td>\n",
       "      <td>0</td>\n",
       "      <td>...</td>\n",
       "      <td>0</td>\n",
       "      <td>0</td>\n",
       "      <td>0</td>\n",
       "      <td>0</td>\n",
       "      <td>0</td>\n",
       "      <td>0</td>\n",
       "      <td>0</td>\n",
       "      <td>0</td>\n",
       "      <td>0</td>\n",
       "      <td>0</td>\n",
       "    </tr>\n",
       "  </tbody>\n",
       "</table>\n",
       "<p>5 rows × 104 columns</p>\n",
       "</div>"
      ],
      "text/plain": [
       "   Project Current Status  Project Cost  \\\n",
       "0                       1        361.80   \n",
       "1                       1        416.24   \n",
       "2                       1        829.08   \n",
       "3                       1        478.98   \n",
       "4                       1        869.98   \n",
       "\n",
       "   Project Grade Level Category_Grades 3-5  \\\n",
       "0                                        0   \n",
       "1                                        0   \n",
       "2                                        0   \n",
       "3                                        0   \n",
       "4                                        0   \n",
       "\n",
       "   Project Grade Level Category_Grades 6-8  \\\n",
       "0                                        0   \n",
       "1                                        0   \n",
       "2                                        0   \n",
       "3                                        0   \n",
       "4                                        0   \n",
       "\n",
       "   Project Grade Level Category_Grades 9-12  \\\n",
       "0                                         0   \n",
       "1                                         0   \n",
       "2                                         0   \n",
       "3                                         0   \n",
       "4                                         0   \n",
       "\n",
       "   Project Grade Level Category_Grades PreK-2  \\\n",
       "0                                           1   \n",
       "1                                           1   \n",
       "2                                           1   \n",
       "3                                           1   \n",
       "4                                           1   \n",
       "\n",
       "   Project Grade Level Category_unknown  Project Posted Month_1  \\\n",
       "0                                     0                       1   \n",
       "1                                     0                       1   \n",
       "2                                     0                       1   \n",
       "3                                     0                       0   \n",
       "4                                     0                       0   \n",
       "\n",
       "   Project Posted Month_10  Project Posted Month_11          ...           \\\n",
       "0                        0                        0          ...            \n",
       "1                        0                        0          ...            \n",
       "2                        0                        0          ...            \n",
       "3                        0                        0          ...            \n",
       "4                        0                        0          ...            \n",
       "\n",
       "   School State_South Dakota  School State_Tennessee  School State_Texas  \\\n",
       "0                          0                       0                   0   \n",
       "1                          0                       0                   0   \n",
       "2                          0                       0                   0   \n",
       "3                          0                       0                   0   \n",
       "4                          0                       0                   0   \n",
       "\n",
       "   School State_Utah  School State_Vermont  School State_Virginia  \\\n",
       "0                  0                     0                      0   \n",
       "1                  0                     0                      0   \n",
       "2                  0                     0                      0   \n",
       "3                  0                     0                      0   \n",
       "4                  0                     0                      0   \n",
       "\n",
       "   School State_Washington  School State_West Virginia  \\\n",
       "0                        0                           0   \n",
       "1                        0                           0   \n",
       "2                        0                           0   \n",
       "3                        0                           0   \n",
       "4                        0                           0   \n",
       "\n",
       "   School State_Wisconsin  School State_Wyoming  \n",
       "0                       0                     0  \n",
       "1                       0                     0  \n",
       "2                       0                     0  \n",
       "3                       0                     0  \n",
       "4                       0                     0  \n",
       "\n",
       "[5 rows x 104 columns]"
      ]
     },
     "execution_count": 20,
     "metadata": {},
     "output_type": "execute_result"
    }
   ],
   "source": [
    "df.head()"
   ]
  },
  {
   "cell_type": "code",
   "execution_count": 21,
   "metadata": {},
   "outputs": [
    {
     "data": {
      "text/plain": [
       "1    736176\n",
       "0    239213\n",
       "Name: Project Current Status, dtype: int64"
      ]
     },
     "execution_count": 21,
     "metadata": {},
     "output_type": "execute_result"
    }
   ],
   "source": [
    "df['Project Current Status'].value_counts()"
   ]
  },
  {
   "cell_type": "code",
   "execution_count": 22,
   "metadata": {
    "collapsed": true
   },
   "outputs": [],
   "source": [
    "features = df.loc[:, df.columns != 'Project Current Status']\n",
    "target = df['Project Current Status']"
   ]
  },
  {
   "cell_type": "code",
   "execution_count": 23,
   "metadata": {
    "collapsed": true
   },
   "outputs": [],
   "source": [
    "training_features, test_features, training_target, test_target = train_test_split(features, target,\n",
    "                                                                                  test_size = .2, random_state=0)"
   ]
  },
  {
   "cell_type": "code",
   "execution_count": 24,
   "metadata": {
    "collapsed": true
   },
   "outputs": [],
   "source": [
    "training_features=training_features.values\n",
    "test_features=test_features.values\n",
    "training_target = training_target.values\n",
    "test_target=test_target.values"
   ]
  },
  {
   "cell_type": "code",
   "execution_count": 25,
   "metadata": {
    "collapsed": true
   },
   "outputs": [],
   "source": [
    "x_train, x_val, y_train, y_val = train_test_split(training_features, training_target,\n",
    "                                                  test_size = .2,\n",
    "                                                  random_state=0)"
   ]
  },
  {
   "cell_type": "code",
   "execution_count": 26,
   "metadata": {
    "collapsed": true
   },
   "outputs": [],
   "source": [
    "sm = SMOTE(random_state=0)\n",
    "x_train_res, y_train_res = sm.fit_sample(x_train, y_train)"
   ]
  },
  {
   "cell_type": "code",
   "execution_count": 27,
   "metadata": {},
   "outputs": [
    {
     "name": "stdout",
     "output_type": "stream",
     "text": [
      "(624248, 103)\n",
      "(156063, 103)\n",
      "(195078, 103)\n"
     ]
    }
   ],
   "source": [
    "print(x_train.shape)\n",
    "print(x_val.shape)\n",
    "print(test_features.shape)"
   ]
  },
  {
   "cell_type": "code",
   "execution_count": 28,
   "metadata": {},
   "outputs": [
    {
     "name": "stdout",
     "output_type": "stream",
     "text": [
      "(941766, 103)\n"
     ]
    }
   ],
   "source": [
    "print(x_train_res.shape)"
   ]
  },
  {
   "cell_type": "code",
   "execution_count": 31,
   "metadata": {},
   "outputs": [
    {
     "data": {
      "text/plain": [
       "RandomForestClassifier(bootstrap=True, class_weight=None, criterion='gini',\n",
       "            max_depth=None, max_features='auto', max_leaf_nodes=None,\n",
       "            min_impurity_decrease=0.0, min_impurity_split=None,\n",
       "            min_samples_leaf=1, min_samples_split=2,\n",
       "            min_weight_fraction_leaf=0.0, n_estimators=50, n_jobs=None,\n",
       "            oob_score=False, random_state=0, verbose=0, warm_start=False)"
      ]
     },
     "execution_count": 31,
     "metadata": {},
     "output_type": "execute_result"
    }
   ],
   "source": [
    "rf_clf = RandomForestClassifier(n_estimators=50, random_state=0)\n",
    "rf_clf.fit(x_train_res, y_train_res)"
   ]
  },
  {
   "cell_type": "code",
   "execution_count": 30,
   "metadata": {},
   "outputs": [
    {
     "name": "stdout",
     "output_type": "stream",
     "text": [
      "\n",
      "Validation Results\n",
      "Accuracy: 0.746788156065\n",
      "Recall: 0.896576247079\n",
      "precision: 0.795039076283\n",
      "F1 score: 0.842760338537\n",
      "\n",
      "Test Results\n",
      "Accuracy: 0.747342088806\n",
      "Recall: 0.897157843957\n",
      "precision: 0.794503980312\n",
      "F1 score: 0.842716277882\n",
      "AUC: 0.592093671148\n",
      "Confusion matrix:\n",
      " [[ 13749  34152]\n",
      " [ 15136 132041]]\n"
     ]
    }
   ],
   "source": [
    "#RandomForestClassifier\n",
    "\n",
    "rf_clf = RandomForestClassifier(n_estimators=50, random_state=0)\n",
    "rf_clf.fit(x_train_res, y_train_res)\n",
    "\n",
    "print('\\nValidation Results')\n",
    "print ('Accuracy:',rf_clf.score(x_val, y_val))\n",
    "print ('Recall:' ,recall_score(y_val, rf_clf.predict(x_val)))\n",
    "print ('precision:' ,precision_score(y_val, rf_clf.predict(x_val)))\n",
    "print ('F1 score:' ,f1_score(y_val, rf_clf.predict(x_val)))\n",
    "\n",
    "print ('\\nTest Results')\n",
    "print ('Accuracy:' ,rf_clf.score(test_features, test_target))\n",
    "print ('Recall:' , recall_score(test_target, rf_clf.predict(test_features)))\n",
    "print ('precision:' , precision_score(test_target, rf_clf.predict(test_features)))\n",
    "print ('F1 score:' ,f1_score(test_target, rf_clf.predict(test_features)))\n",
    "print ('AUC:' ,roc_auc_score(test_target, rf_clf.predict(test_features)))\n",
    "\n",
    "conf_mat = confusion_matrix(y_true=test_target, y_pred=rf_clf.predict(test_features))\n",
    "print('Confusion matrix:\\n', conf_mat)"
   ]
  },
  {
   "cell_type": "code",
   "execution_count": 32,
   "metadata": {},
   "outputs": [
    {
     "name": "stderr",
     "output_type": "stream",
     "text": [
      "C:\\DCU\\Anaconda3\\lib\\site-packages\\sklearn\\linear_model\\logistic.py:432: FutureWarning: Default solver will be changed to 'lbfgs' in 0.22. Specify a solver to silence this warning.\n",
      "  FutureWarning)\n"
     ]
    },
    {
     "name": "stdout",
     "output_type": "stream",
     "text": [
      "\n",
      "Validation Results\n",
      "Accuracy: 0.656158090002\n",
      "Recall: 0.673795252125\n",
      "precision: 0.840250430229\n",
      "F1 score: 0.747872745298\n",
      "\n",
      "Test Results\n",
      "Accuracy: 0.656327212705\n",
      "Recall: 0.674161044185\n",
      "precision: 0.838666869527\n",
      "F1 score: 0.74746972522\n",
      "AUC: 0.637846685638\n",
      "Confusion matrix:\n",
      " [[28814 19087]\n",
      " [47956 99221]]\n"
     ]
    }
   ],
   "source": [
    "#LogisticRegression\n",
    "\n",
    "from sklearn.linear_model import LogisticRegression\n",
    "logreg = LogisticRegression()\n",
    "logreg.fit(x_train_res, y_train_res)\n",
    "\n",
    "print('\\nValidation Results')\n",
    "print ('Accuracy:',logreg.score(x_val, y_val))\n",
    "print ('Recall:' ,recall_score(y_val, logreg.predict(x_val)))\n",
    "print ('precision:' ,precision_score(y_val, logreg.predict(x_val)))\n",
    "print ('F1 score:' ,f1_score(y_val, logreg.predict(x_val)))\n",
    "\n",
    "print ('\\nTest Results')\n",
    "print ('Accuracy:' ,logreg.score(test_features, test_target))\n",
    "print ('Recall:' , recall_score(test_target, logreg.predict(test_features)))\n",
    "print ('precision:' , precision_score(test_target, logreg.predict(test_features)))\n",
    "print ('F1 score:' ,f1_score(test_target, logreg.predict(test_features)))\n",
    "print ('AUC:' ,roc_auc_score(test_target, logreg.predict(test_features)))\n",
    "\n",
    "\n",
    "conf_mat = confusion_matrix(y_true=test_target, y_pred=logreg.predict(test_features))\n",
    "print('Confusion matrix:\\n', conf_mat)"
   ]
  },
  {
   "cell_type": "code",
   "execution_count": 33,
   "metadata": {},
   "outputs": [
    {
     "name": "stdout",
     "output_type": "stream",
     "text": [
      "\n",
      "Validation Results\n",
      "Accuracy: 0.685755111718\n",
      "Recall: 0.78901249619\n",
      "precision: 0.794392921682\n",
      "F1 score: 0.791693567569\n",
      "\n",
      "Test Results\n",
      "Accuracy: 0.683234398548\n",
      "Recall: 0.787065913832\n",
      "precision: 0.791821891683\n",
      "F1 score: 0.789436739701\n",
      "AUC: 0.575637714645\n",
      "Confusion matrix:\n",
      " [[ 17446  30455]\n",
      " [ 31339 115838]]\n"
     ]
    }
   ],
   "source": [
    "#DecisionTreeClassifier\n",
    "\n",
    "from sklearn.tree import DecisionTreeClassifier\n",
    "dt_clf = DecisionTreeClassifier().fit(x_train_res, y_train_res)\n",
    "\n",
    "\n",
    "print('\\nValidation Results')\n",
    "print ('Accuracy:',dt_clf.score(x_val, y_val))\n",
    "print ('Recall:' ,recall_score(y_val, dt_clf.predict(x_val)))\n",
    "print ('precision:' ,precision_score(y_val, dt_clf.predict(x_val)))\n",
    "print ('F1 score:' ,f1_score(y_val, dt_clf.predict(x_val)))\n",
    "\n",
    "print ('\\nTest Results')\n",
    "print ('Accuracy:' ,dt_clf.score(test_features, test_target))\n",
    "print ('Recall:' , recall_score(test_target, dt_clf.predict(test_features)))\n",
    "print ('precision:' , precision_score(test_target, dt_clf.predict(test_features)))\n",
    "print ('F1 score:' ,f1_score(test_target, dt_clf.predict(test_features)))\n",
    "print ('AUC:' ,roc_auc_score(test_target, dt_clf.predict(test_features)))\n",
    "\n",
    "\n",
    "conf_mat = confusion_matrix(y_true=test_target, y_pred=dt_clf.predict(test_features))\n",
    "print('Confusion matrix:\\n', conf_mat)"
   ]
  },
  {
   "cell_type": "code",
   "execution_count": 34,
   "metadata": {},
   "outputs": [
    {
     "name": "stdout",
     "output_type": "stream",
     "text": [
      "\n",
      "Validation Results\n",
      "Accuracy: 0.533611426155\n",
      "Recall: 0.484862338718\n",
      "precision: 0.827481577807\n",
      "F1 score: 0.611447423209\n",
      "\n",
      "Test Results\n",
      "Accuracy: 0.533853125417\n",
      "Recall: 0.484409928182\n",
      "precision: 0.825678085841\n",
      "F1 score: 0.610595101981\n",
      "AUC: 0.585089246256\n",
      "Confusion matrix:\n",
      " [[32849 15052]\n",
      " [75883 71294]]\n"
     ]
    }
   ],
   "source": [
    "#KNeighborsClassifier\n",
    "\n",
    "from sklearn.neighbors import KNeighborsClassifier\n",
    "knn = KNeighborsClassifier()\n",
    "knn.fit(x_train_res, y_train_res)\n",
    "\n",
    "print('\\nValidation Results')\n",
    "print ('Accuracy:',knn.score(x_val, y_val))\n",
    "print ('Recall:' ,recall_score(y_val, knn.predict(x_val)))\n",
    "print ('precision:' ,precision_score(y_val, knn.predict(x_val)))\n",
    "print ('F1 score:' ,f1_score(y_val, knn.predict(x_val)))\n",
    "\n",
    "print ('\\nTest Results')\n",
    "print ('Accuracy:' ,knn.score(test_features, test_target))\n",
    "print ('Recall:' , recall_score(test_target, knn.predict(test_features)))\n",
    "print ('precision:' , precision_score(test_target, knn.predict(test_features)))\n",
    "print ('F1 score:' ,f1_score(test_target, knn.predict(test_features)))\n",
    "print ('AUC:' ,roc_auc_score(test_target, knn.predict(test_features)))\n",
    "\n",
    "\n",
    "conf_mat = confusion_matrix(y_true=test_target, y_pred=knn.predict(test_features))\n",
    "print('Confusion matrix:\\n', conf_mat)"
   ]
  },
  {
   "cell_type": "code",
   "execution_count": 44,
   "metadata": {},
   "outputs": [
    {
     "data": {
      "image/png": "[encoded data removed]",
      "text/plain": [
       "<matplotlib.figure.Figure at 0x17b0a99bf28>"
      ]
     },
     "metadata": {},
     "output_type": "display_data"
    }
   ],
   "source": [
    "logreg_roc_auc = roc_auc_score(test_target, logreg.predict(test_features))\n",
    "logreg_fpr, logreg_tpr, logreg_thresold = roc_curve(test_target, logreg.predict_proba(test_features)[:,1])\n",
    "\n",
    "knn_roc_auc = roc_auc_score(test_target, knn.predict(test_features))\n",
    "knn_fpr, knn_tpr, knn_threshold = roc_curve(test_target, knn.predict_proba(test_features)[:,1])\n",
    "\n",
    "rf_clf_roc_auc = roc_auc_score(test_target, rf_clf.predict(test_features))\n",
    "rf_clf_fpr, rf_clf_tpr, rf_clf_threshold = roc_curve(test_target, rf_clf.predict_proba(test_features)[:,1])\n",
    "\n",
    "dt_clf_roc_auc = roc_auc_score(test_target, dt_clf.predict(test_features))\n",
    "dt_clf_fpr, dt_clf_tpr, dt_clf_threshold = roc_curve(test_target, dt_clf.predict_proba(test_features)[:,1])\n",
    "\n",
    "\n",
    "\n",
    "\n",
    "def graph_roc_curve_multiple(logreg_fpr, logreg_tpr, knn_fpr, knn_tpr, rf_clf_fpr, rf_clf_tpr, dt_clf_fpr, dt_clf_tpr):\n",
    "    plt.figure(figsize=(16,8))\n",
    "    plt.title('Receiver Operating Characteristic', fontsize=18)\n",
    "    plt.plot(logreg_fpr, logreg_tpr, label='Logistic Regression Classifier(area = %0.2f)'% logreg_roc_auc)\n",
    "    plt.plot(rf_clf_fpr, rf_clf_tpr, label='Random Forest Classifier (area = %0.2f)'% rf_clf_roc_auc)\n",
    "    plt.plot(knn_fpr, knn_tpr, label='KNears Neighbors Classifier Score(area = %0.2f)'% knn_roc_auc)\n",
    "    plt.plot(dt_clf_fpr, dt_clf_tpr, label='Decision Tree Classifier Score(area = %0.2f)'% dt_clf_roc_auc)\n",
    "\n",
    "    plt.plot([0, 1], [0, 1], 'k--')\n",
    "    plt.axis([-0.01, 1, 0, 1])\n",
    "    plt.xlabel('False Positive Rate', fontsize=16)\n",
    "    plt.ylabel('True Positive Rate', fontsize=16)\n",
    "    plt.annotate('Minimum ROC Score of 50% \\n (This is the minimum score to get)', xy=(0.5, 0.5), xytext=(0.6, 0.3),\n",
    "                arrowprops=dict(facecolor='#6E726D', shrink=0.05),\n",
    "                )\n",
    "    plt.legend()\n",
    "    \n",
    "graph_roc_curve_multiple(logreg_fpr, logreg_tpr, knn_fpr, knn_tpr, rf_clf_fpr, rf_clf_tpr, dt_clf_fpr, dt_clf_tpr)\n",
    "plt.show()\n"
   ]
  },
  {
   "cell_type": "code",
   "execution_count": null,
   "metadata": {
    "collapsed": true
   },
   "outputs": [],
   "source": []
  }
 ],
 "metadata": {
  "kernelspec": {
   "display_name": "Python 3",
   "language": "python",
   "name": "python3"
  },
  "language_info": {
   "codemirror_mode": {
    "name": "ipython",
    "version": 3
   },
   "file_extension": ".py",
   "mimetype": "text/x-python",
   "name": "python",
   "nbconvert_exporter": "python",
   "pygments_lexer": "ipython3",
   "version": "3.6.1"
  }
 },
 "nbformat": 4,
 "nbformat_minor": 2
}
